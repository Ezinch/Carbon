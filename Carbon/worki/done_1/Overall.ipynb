{
 "cells": [
  {
   "cell_type": "code",
   "execution_count": 49,
   "id": "25f945c4",
   "metadata": {},
   "outputs": [],
   "source": [
    "import pandas as pd\n",
    "import seaborn as sns\n",
    "import matplotlib.pyplot as plt\n",
    "import numpy as np\n",
    "from scipy import stats\n",
    "from linearmodels.panel import PooledOLS\n",
    "import statsmodels.api as sm"
   ]
  },
  {
   "cell_type": "code",
   "execution_count": 50,
   "id": "b6f2d609",
   "metadata": {},
   "outputs": [],
   "source": [
    "gdp = pd.read_csv('gdp.csv')"
   ]
  },
  {
   "cell_type": "code",
   "execution_count": 51,
   "id": "8d29ec47",
   "metadata": {},
   "outputs": [],
   "source": [
    "inv = pd.read_csv('inv.csv')"
   ]
  },
  {
   "cell_type": "code",
   "execution_count": 52,
   "id": "9544e5c6",
   "metadata": {},
   "outputs": [],
   "source": [
    "overall = pd.merge_ordered(gdp, inv)"
   ]
  },
  {
   "cell_type": "code",
   "execution_count": 53,
   "id": "0dfc2f0c",
   "metadata": {},
   "outputs": [
    {
     "data": {
      "text/html": [
       "<div>\n",
       "<style scoped>\n",
       "    .dataframe tbody tr th:only-of-type {\n",
       "        vertical-align: middle;\n",
       "    }\n",
       "\n",
       "    .dataframe tbody tr th {\n",
       "        vertical-align: top;\n",
       "    }\n",
       "\n",
       "    .dataframe thead th {\n",
       "        text-align: right;\n",
       "    }\n",
       "</style>\n",
       "<table border=\"1\" class=\"dataframe\">\n",
       "  <thead>\n",
       "    <tr style=\"text-align: right;\">\n",
       "      <th></th>\n",
       "      <th>Country</th>\n",
       "      <th>Year</th>\n",
       "      <th>GDP_g</th>\n",
       "      <th>Inflation_g</th>\n",
       "      <th>True Growth</th>\n",
       "      <th>Amount (2020 USD million)</th>\n",
       "    </tr>\n",
       "  </thead>\n",
       "  <tbody>\n",
       "    <tr>\n",
       "      <th>0</th>\n",
       "      <td>Afghanistan</td>\n",
       "      <td>1961</td>\n",
       "      <td>NaN</td>\n",
       "      <td>NaN</td>\n",
       "      <td>0.0</td>\n",
       "      <td>NaN</td>\n",
       "    </tr>\n",
       "    <tr>\n",
       "      <th>1</th>\n",
       "      <td>Afghanistan</td>\n",
       "      <td>1962</td>\n",
       "      <td>NaN</td>\n",
       "      <td>NaN</td>\n",
       "      <td>0.0</td>\n",
       "      <td>NaN</td>\n",
       "    </tr>\n",
       "    <tr>\n",
       "      <th>2</th>\n",
       "      <td>Afghanistan</td>\n",
       "      <td>1963</td>\n",
       "      <td>NaN</td>\n",
       "      <td>NaN</td>\n",
       "      <td>0.0</td>\n",
       "      <td>NaN</td>\n",
       "    </tr>\n",
       "    <tr>\n",
       "      <th>3</th>\n",
       "      <td>Afghanistan</td>\n",
       "      <td>1964</td>\n",
       "      <td>NaN</td>\n",
       "      <td>NaN</td>\n",
       "      <td>0.0</td>\n",
       "      <td>NaN</td>\n",
       "    </tr>\n",
       "    <tr>\n",
       "      <th>4</th>\n",
       "      <td>Afghanistan</td>\n",
       "      <td>1965</td>\n",
       "      <td>NaN</td>\n",
       "      <td>NaN</td>\n",
       "      <td>0.0</td>\n",
       "      <td>NaN</td>\n",
       "    </tr>\n",
       "    <tr>\n",
       "      <th>...</th>\n",
       "      <td>...</td>\n",
       "      <td>...</td>\n",
       "      <td>...</td>\n",
       "      <td>...</td>\n",
       "      <td>...</td>\n",
       "      <td>...</td>\n",
       "    </tr>\n",
       "    <tr>\n",
       "      <th>16994</th>\n",
       "      <td>Zimbabwe</td>\n",
       "      <td>2018</td>\n",
       "      <td>5.009867</td>\n",
       "      <td>200.769578</td>\n",
       "      <td>0.0</td>\n",
       "      <td>967.543716</td>\n",
       "    </tr>\n",
       "    <tr>\n",
       "      <th>16995</th>\n",
       "      <td>Zimbabwe</td>\n",
       "      <td>2019</td>\n",
       "      <td>-6.332446</td>\n",
       "      <td>225.394648</td>\n",
       "      <td>0.0</td>\n",
       "      <td>0.254309</td>\n",
       "    </tr>\n",
       "    <tr>\n",
       "      <th>16996</th>\n",
       "      <td>Zimbabwe</td>\n",
       "      <td>2020</td>\n",
       "      <td>-7.816951</td>\n",
       "      <td>604.945864</td>\n",
       "      <td>0.0</td>\n",
       "      <td>0.011643</td>\n",
       "    </tr>\n",
       "    <tr>\n",
       "      <th>16997</th>\n",
       "      <td>Zimbabwe</td>\n",
       "      <td>2021</td>\n",
       "      <td>8.468017</td>\n",
       "      <td>113.294981</td>\n",
       "      <td>0.0</td>\n",
       "      <td>NaN</td>\n",
       "    </tr>\n",
       "    <tr>\n",
       "      <th>16998</th>\n",
       "      <td>Zimbabwe</td>\n",
       "      <td>2022</td>\n",
       "      <td>3.400000</td>\n",
       "      <td>183.793400</td>\n",
       "      <td>0.0</td>\n",
       "      <td>NaN</td>\n",
       "    </tr>\n",
       "  </tbody>\n",
       "</table>\n",
       "<p>16999 rows × 6 columns</p>\n",
       "</div>"
      ],
      "text/plain": [
       "           Country  Year     GDP_g  Inflation_g  True Growth  \\\n",
       "0      Afghanistan  1961       NaN          NaN          0.0   \n",
       "1      Afghanistan  1962       NaN          NaN          0.0   \n",
       "2      Afghanistan  1963       NaN          NaN          0.0   \n",
       "3      Afghanistan  1964       NaN          NaN          0.0   \n",
       "4      Afghanistan  1965       NaN          NaN          0.0   \n",
       "...            ...   ...       ...          ...          ...   \n",
       "16994     Zimbabwe  2018  5.009867   200.769578          0.0   \n",
       "16995     Zimbabwe  2019 -6.332446   225.394648          0.0   \n",
       "16996     Zimbabwe  2020 -7.816951   604.945864          0.0   \n",
       "16997     Zimbabwe  2021  8.468017   113.294981          0.0   \n",
       "16998     Zimbabwe  2022  3.400000   183.793400          0.0   \n",
       "\n",
       "       Amount (2020 USD million)  \n",
       "0                            NaN  \n",
       "1                            NaN  \n",
       "2                            NaN  \n",
       "3                            NaN  \n",
       "4                            NaN  \n",
       "...                          ...  \n",
       "16994                 967.543716  \n",
       "16995                   0.254309  \n",
       "16996                   0.011643  \n",
       "16997                        NaN  \n",
       "16998                        NaN  \n",
       "\n",
       "[16999 rows x 6 columns]"
      ]
     },
     "execution_count": 53,
     "metadata": {},
     "output_type": "execute_result"
    }
   ],
   "source": [
    "overall"
   ]
  },
  {
   "cell_type": "code",
   "execution_count": 54,
   "id": "bc7dfa41",
   "metadata": {},
   "outputs": [],
   "source": [
    "others = pd.read_csv('others.csv')"
   ]
  },
  {
   "cell_type": "code",
   "execution_count": 55,
   "id": "c590aa29",
   "metadata": {},
   "outputs": [],
   "source": [
    "others = others.rename(columns={'Country Name':'Country'})"
   ]
  },
  {
   "cell_type": "code",
   "execution_count": 56,
   "id": "a0490940",
   "metadata": {},
   "outputs": [],
   "source": [
    "overall = pd.merge_ordered(overall, others)"
   ]
  },
  {
   "cell_type": "code",
   "execution_count": 57,
   "id": "eff0a68f",
   "metadata": {},
   "outputs": [],
   "source": [
    "overall = pd.merge_ordered(overall, pd.read_csv('en_use.csv'))\n",
    "#overall = overall.drop(overall[overall.Year > 2020].index)\n",
    "#overall = overall.drop(overall[overall.Year < 2019].index)"
   ]
  },
  {
   "cell_type": "code",
   "execution_count": 58,
   "id": "8d777348",
   "metadata": {},
   "outputs": [],
   "source": [
    "overall.drop(columns=['True Growth', 'Amount (2020 USD million)', 'Alt. en. use', 'Overall en. use'], inplace=True)"
   ]
  },
  {
   "cell_type": "code",
   "execution_count": 59,
   "id": "5f10b277",
   "metadata": {},
   "outputs": [
    {
     "data": {
      "text/html": [
       "<div>\n",
       "<style scoped>\n",
       "    .dataframe tbody tr th:only-of-type {\n",
       "        vertical-align: middle;\n",
       "    }\n",
       "\n",
       "    .dataframe tbody tr th {\n",
       "        vertical-align: top;\n",
       "    }\n",
       "\n",
       "    .dataframe thead th {\n",
       "        text-align: right;\n",
       "    }\n",
       "</style>\n",
       "<table border=\"1\" class=\"dataframe\">\n",
       "  <thead>\n",
       "    <tr style=\"text-align: right;\">\n",
       "      <th></th>\n",
       "      <th>Country</th>\n",
       "      <th>Year</th>\n",
       "      <th>GDP_g</th>\n",
       "      <th>Inflation_g</th>\n",
       "      <th>GHG</th>\n",
       "      <th>energy_use</th>\n",
       "    </tr>\n",
       "  </thead>\n",
       "  <tbody>\n",
       "    <tr>\n",
       "      <th>0</th>\n",
       "      <td>Afghanistan</td>\n",
       "      <td>1960</td>\n",
       "      <td>NaN</td>\n",
       "      <td>NaN</td>\n",
       "      <td>NaN</td>\n",
       "      <td>NaN</td>\n",
       "    </tr>\n",
       "    <tr>\n",
       "      <th>1</th>\n",
       "      <td>Afghanistan</td>\n",
       "      <td>1961</td>\n",
       "      <td>NaN</td>\n",
       "      <td>NaN</td>\n",
       "      <td>NaN</td>\n",
       "      <td>NaN</td>\n",
       "    </tr>\n",
       "    <tr>\n",
       "      <th>2</th>\n",
       "      <td>Afghanistan</td>\n",
       "      <td>1962</td>\n",
       "      <td>NaN</td>\n",
       "      <td>NaN</td>\n",
       "      <td>NaN</td>\n",
       "      <td>NaN</td>\n",
       "    </tr>\n",
       "    <tr>\n",
       "      <th>3</th>\n",
       "      <td>Afghanistan</td>\n",
       "      <td>1963</td>\n",
       "      <td>NaN</td>\n",
       "      <td>NaN</td>\n",
       "      <td>NaN</td>\n",
       "      <td>NaN</td>\n",
       "    </tr>\n",
       "    <tr>\n",
       "      <th>4</th>\n",
       "      <td>Afghanistan</td>\n",
       "      <td>1964</td>\n",
       "      <td>NaN</td>\n",
       "      <td>NaN</td>\n",
       "      <td>NaN</td>\n",
       "      <td>NaN</td>\n",
       "    </tr>\n",
       "    <tr>\n",
       "      <th>...</th>\n",
       "      <td>...</td>\n",
       "      <td>...</td>\n",
       "      <td>...</td>\n",
       "      <td>...</td>\n",
       "      <td>...</td>\n",
       "      <td>...</td>\n",
       "    </tr>\n",
       "    <tr>\n",
       "      <th>17326</th>\n",
       "      <td>Zimbabwe</td>\n",
       "      <td>2018</td>\n",
       "      <td>5.009867</td>\n",
       "      <td>200.769578</td>\n",
       "      <td>29374.28664</td>\n",
       "      <td>NaN</td>\n",
       "    </tr>\n",
       "    <tr>\n",
       "      <th>17327</th>\n",
       "      <td>Zimbabwe</td>\n",
       "      <td>2019</td>\n",
       "      <td>-6.332446</td>\n",
       "      <td>225.394648</td>\n",
       "      <td>28697.16047</td>\n",
       "      <td>NaN</td>\n",
       "    </tr>\n",
       "    <tr>\n",
       "      <th>17328</th>\n",
       "      <td>Zimbabwe</td>\n",
       "      <td>2020</td>\n",
       "      <td>-7.816951</td>\n",
       "      <td>604.945864</td>\n",
       "      <td>25988.12599</td>\n",
       "      <td>NaN</td>\n",
       "    </tr>\n",
       "    <tr>\n",
       "      <th>17329</th>\n",
       "      <td>Zimbabwe</td>\n",
       "      <td>2021</td>\n",
       "      <td>8.468017</td>\n",
       "      <td>113.294981</td>\n",
       "      <td>NaN</td>\n",
       "      <td>NaN</td>\n",
       "    </tr>\n",
       "    <tr>\n",
       "      <th>17330</th>\n",
       "      <td>Zimbabwe</td>\n",
       "      <td>2022</td>\n",
       "      <td>3.400000</td>\n",
       "      <td>183.793400</td>\n",
       "      <td>NaN</td>\n",
       "      <td>NaN</td>\n",
       "    </tr>\n",
       "  </tbody>\n",
       "</table>\n",
       "<p>17331 rows × 6 columns</p>\n",
       "</div>"
      ],
      "text/plain": [
       "           Country  Year     GDP_g  Inflation_g          GHG  energy_use\n",
       "0      Afghanistan  1960       NaN          NaN          NaN         NaN\n",
       "1      Afghanistan  1961       NaN          NaN          NaN         NaN\n",
       "2      Afghanistan  1962       NaN          NaN          NaN         NaN\n",
       "3      Afghanistan  1963       NaN          NaN          NaN         NaN\n",
       "4      Afghanistan  1964       NaN          NaN          NaN         NaN\n",
       "...            ...   ...       ...          ...          ...         ...\n",
       "17326     Zimbabwe  2018  5.009867   200.769578  29374.28664         NaN\n",
       "17327     Zimbabwe  2019 -6.332446   225.394648  28697.16047         NaN\n",
       "17328     Zimbabwe  2020 -7.816951   604.945864  25988.12599         NaN\n",
       "17329     Zimbabwe  2021  8.468017   113.294981          NaN         NaN\n",
       "17330     Zimbabwe  2022  3.400000   183.793400          NaN         NaN\n",
       "\n",
       "[17331 rows x 6 columns]"
      ]
     },
     "execution_count": 59,
     "metadata": {},
     "output_type": "execute_result"
    }
   ],
   "source": [
    "overall"
   ]
  },
  {
   "cell_type": "code",
   "execution_count": 60,
   "id": "57df737d",
   "metadata": {},
   "outputs": [],
   "source": [
    "overall.dropna(inplace=True, ignore_index = True)"
   ]
  },
  {
   "cell_type": "code",
   "execution_count": 61,
   "id": "0b7d37b3",
   "metadata": {},
   "outputs": [
    {
     "data": {
      "text/html": [
       "<div>\n",
       "<style scoped>\n",
       "    .dataframe tbody tr th:only-of-type {\n",
       "        vertical-align: middle;\n",
       "    }\n",
       "\n",
       "    .dataframe tbody tr th {\n",
       "        vertical-align: top;\n",
       "    }\n",
       "\n",
       "    .dataframe thead th {\n",
       "        text-align: right;\n",
       "    }\n",
       "</style>\n",
       "<table border=\"1\" class=\"dataframe\">\n",
       "  <thead>\n",
       "    <tr style=\"text-align: right;\">\n",
       "      <th></th>\n",
       "      <th>Country</th>\n",
       "      <th>Year</th>\n",
       "      <th>GDP_g</th>\n",
       "      <th>Inflation_g</th>\n",
       "      <th>GHG</th>\n",
       "      <th>energy_use</th>\n",
       "    </tr>\n",
       "  </thead>\n",
       "  <tbody>\n",
       "    <tr>\n",
       "      <th>0</th>\n",
       "      <td>Australia</td>\n",
       "      <td>2000</td>\n",
       "      <td>3.901171</td>\n",
       "      <td>2.560384</td>\n",
       "      <td>6.068608e+05</td>\n",
       "      <td>2545.70</td>\n",
       "    </tr>\n",
       "    <tr>\n",
       "      <th>1</th>\n",
       "      <td>Australia</td>\n",
       "      <td>2001</td>\n",
       "      <td>2.041417</td>\n",
       "      <td>4.620333</td>\n",
       "      <td>6.355300e+05</td>\n",
       "      <td>2554.74</td>\n",
       "    </tr>\n",
       "    <tr>\n",
       "      <th>2</th>\n",
       "      <td>Australia</td>\n",
       "      <td>2002</td>\n",
       "      <td>3.993590</td>\n",
       "      <td>2.844065</td>\n",
       "      <td>6.302350e+05</td>\n",
       "      <td>2553.62</td>\n",
       "    </tr>\n",
       "    <tr>\n",
       "      <th>3</th>\n",
       "      <td>Australia</td>\n",
       "      <td>2003</td>\n",
       "      <td>3.111398</td>\n",
       "      <td>2.967938</td>\n",
       "      <td>5.505632e+05</td>\n",
       "      <td>2654.80</td>\n",
       "    </tr>\n",
       "    <tr>\n",
       "      <th>4</th>\n",
       "      <td>Australia</td>\n",
       "      <td>2004</td>\n",
       "      <td>4.216633</td>\n",
       "      <td>3.237062</td>\n",
       "      <td>6.089257e+05</td>\n",
       "      <td>2722.53</td>\n",
       "    </tr>\n",
       "    <tr>\n",
       "      <th>...</th>\n",
       "      <td>...</td>\n",
       "      <td>...</td>\n",
       "      <td>...</td>\n",
       "      <td>...</td>\n",
       "      <td>...</td>\n",
       "      <td>...</td>\n",
       "    </tr>\n",
       "    <tr>\n",
       "      <th>475</th>\n",
       "      <td>United States</td>\n",
       "      <td>2016</td>\n",
       "      <td>1.667472</td>\n",
       "      <td>1.002235</td>\n",
       "      <td>6.003241e+06</td>\n",
       "      <td>54460.04</td>\n",
       "    </tr>\n",
       "    <tr>\n",
       "      <th>476</th>\n",
       "      <td>United States</td>\n",
       "      <td>2017</td>\n",
       "      <td>2.241921</td>\n",
       "      <td>1.899610</td>\n",
       "      <td>5.947835e+06</td>\n",
       "      <td>54939.22</td>\n",
       "    </tr>\n",
       "    <tr>\n",
       "      <th>477</th>\n",
       "      <td>United States</td>\n",
       "      <td>2018</td>\n",
       "      <td>2.945385</td>\n",
       "      <td>2.404059</td>\n",
       "      <td>6.154646e+06</td>\n",
       "      <td>56461.94</td>\n",
       "    </tr>\n",
       "    <tr>\n",
       "      <th>478</th>\n",
       "      <td>United States</td>\n",
       "      <td>2019</td>\n",
       "      <td>2.294439</td>\n",
       "      <td>1.793931</td>\n",
       "      <td>6.039739e+06</td>\n",
       "      <td>57239.83</td>\n",
       "    </tr>\n",
       "    <tr>\n",
       "      <th>479</th>\n",
       "      <td>United States</td>\n",
       "      <td>2020</td>\n",
       "      <td>-2.767803</td>\n",
       "      <td>1.304912</td>\n",
       "      <td>5.505181e+06</td>\n",
       "      <td>50234.83</td>\n",
       "    </tr>\n",
       "  </tbody>\n",
       "</table>\n",
       "<p>480 rows × 6 columns</p>\n",
       "</div>"
      ],
      "text/plain": [
       "           Country  Year     GDP_g  Inflation_g           GHG  energy_use\n",
       "0        Australia  2000  3.901171     2.560384  6.068608e+05     2545.70\n",
       "1        Australia  2001  2.041417     4.620333  6.355300e+05     2554.74\n",
       "2        Australia  2002  3.993590     2.844065  6.302350e+05     2553.62\n",
       "3        Australia  2003  3.111398     2.967938  5.505632e+05     2654.80\n",
       "4        Australia  2004  4.216633     3.237062  6.089257e+05     2722.53\n",
       "..             ...   ...       ...          ...           ...         ...\n",
       "475  United States  2016  1.667472     1.002235  6.003241e+06    54460.04\n",
       "476  United States  2017  2.241921     1.899610  5.947835e+06    54939.22\n",
       "477  United States  2018  2.945385     2.404059  6.154646e+06    56461.94\n",
       "478  United States  2019  2.294439     1.793931  6.039739e+06    57239.83\n",
       "479  United States  2020 -2.767803     1.304912  5.505181e+06    50234.83\n",
       "\n",
       "[480 rows x 6 columns]"
      ]
     },
     "execution_count": 61,
     "metadata": {},
     "output_type": "execute_result"
    }
   ],
   "source": [
    "overall"
   ]
  },
  {
   "cell_type": "code",
   "execution_count": 62,
   "id": "17fdcfc7",
   "metadata": {},
   "outputs": [],
   "source": [
    "#overall.to_excel('overall1.xlsx')"
   ]
  },
  {
   "cell_type": "code",
   "execution_count": 63,
   "id": "f2f68571",
   "metadata": {},
   "outputs": [
    {
     "data": {
      "text/plain": [
       "Year\n",
       "2010    24\n",
       "2015    24\n",
       "2019    24\n",
       "2018    24\n",
       "2017    24\n",
       "2016    24\n",
       "2011    24\n",
       "2012    24\n",
       "2013    24\n",
       "2014    24\n",
       "2005    23\n",
       "2006    23\n",
       "2007    23\n",
       "2008    23\n",
       "2009    23\n",
       "2000    22\n",
       "2001    22\n",
       "2004    22\n",
       "2003    22\n",
       "2002    22\n",
       "2020    15\n",
       "Name: count, dtype: int64"
      ]
     },
     "execution_count": 63,
     "metadata": {},
     "output_type": "execute_result"
    }
   ],
   "source": [
    "overall['Year'].value_counts()"
   ]
  },
  {
   "cell_type": "code",
   "execution_count": 16,
   "id": "b18155fa",
   "metadata": {},
   "outputs": [],
   "source": [
    "year = pd.Categorical(overall.Year)"
   ]
  },
  {
   "cell_type": "code",
   "execution_count": 17,
   "id": "90f51c77",
   "metadata": {},
   "outputs": [],
   "source": [
    "overall = overall.set_index([\"Country\", \"Year\"])\n",
    "#overall[\"Year\"] = year"
   ]
  },
  {
   "cell_type": "code",
   "execution_count": 18,
   "id": "c15cf260",
   "metadata": {},
   "outputs": [],
   "source": [
    "overall['GDP_lag'] = overall.groupby('Country')['GDP_g'].shift(1)\n",
    "overall.dropna(inplace=True)"
   ]
  },
  {
   "cell_type": "code",
   "execution_count": 19,
   "id": "bac13b46",
   "metadata": {},
   "outputs": [],
   "source": [
    "overall.to_excel('overall1.xlsx')"
   ]
  },
  {
   "cell_type": "code",
   "execution_count": 20,
   "id": "e8a6cb24",
   "metadata": {},
   "outputs": [],
   "source": [
    "corr = overall.corr(method = 'pearson', numeric_only=True)"
   ]
  },
  {
   "cell_type": "code",
   "execution_count": 21,
   "id": "5c49f9d0",
   "metadata": {},
   "outputs": [
    {
     "data": {
      "text/html": [
       "<div>\n",
       "<style scoped>\n",
       "    .dataframe tbody tr th:only-of-type {\n",
       "        vertical-align: middle;\n",
       "    }\n",
       "\n",
       "    .dataframe tbody tr th {\n",
       "        vertical-align: top;\n",
       "    }\n",
       "\n",
       "    .dataframe thead th {\n",
       "        text-align: right;\n",
       "    }\n",
       "</style>\n",
       "<table border=\"1\" class=\"dataframe\">\n",
       "  <thead>\n",
       "    <tr style=\"text-align: right;\">\n",
       "      <th></th>\n",
       "      <th>GDP_g</th>\n",
       "      <th>Inflation_g</th>\n",
       "      <th>GHG</th>\n",
       "      <th>energy_use</th>\n",
       "      <th>GDP_lag</th>\n",
       "    </tr>\n",
       "  </thead>\n",
       "  <tbody>\n",
       "    <tr>\n",
       "      <th>GDP_g</th>\n",
       "      <td>1.000000</td>\n",
       "      <td>0.233270</td>\n",
       "      <td>-0.019185</td>\n",
       "      <td>-0.031834</td>\n",
       "      <td>0.394699</td>\n",
       "    </tr>\n",
       "    <tr>\n",
       "      <th>Inflation_g</th>\n",
       "      <td>0.233270</td>\n",
       "      <td>1.000000</td>\n",
       "      <td>-0.016074</td>\n",
       "      <td>-0.038944</td>\n",
       "      <td>0.348440</td>\n",
       "    </tr>\n",
       "    <tr>\n",
       "      <th>GHG</th>\n",
       "      <td>-0.019185</td>\n",
       "      <td>-0.016074</td>\n",
       "      <td>1.000000</td>\n",
       "      <td>0.996700</td>\n",
       "      <td>-0.015834</td>\n",
       "    </tr>\n",
       "    <tr>\n",
       "      <th>energy_use</th>\n",
       "      <td>-0.031834</td>\n",
       "      <td>-0.038944</td>\n",
       "      <td>0.996700</td>\n",
       "      <td>1.000000</td>\n",
       "      <td>-0.025878</td>\n",
       "    </tr>\n",
       "    <tr>\n",
       "      <th>GDP_lag</th>\n",
       "      <td>0.394699</td>\n",
       "      <td>0.348440</td>\n",
       "      <td>-0.015834</td>\n",
       "      <td>-0.025878</td>\n",
       "      <td>1.000000</td>\n",
       "    </tr>\n",
       "  </tbody>\n",
       "</table>\n",
       "</div>"
      ],
      "text/plain": [
       "                GDP_g  Inflation_g       GHG  energy_use   GDP_lag\n",
       "GDP_g        1.000000     0.233270 -0.019185   -0.031834  0.394699\n",
       "Inflation_g  0.233270     1.000000 -0.016074   -0.038944  0.348440\n",
       "GHG         -0.019185    -0.016074  1.000000    0.996700 -0.015834\n",
       "energy_use  -0.031834    -0.038944  0.996700    1.000000 -0.025878\n",
       "GDP_lag      0.394699     0.348440 -0.015834   -0.025878  1.000000"
      ]
     },
     "execution_count": 21,
     "metadata": {},
     "output_type": "execute_result"
    }
   ],
   "source": [
    "corr"
   ]
  },
  {
   "cell_type": "code",
   "execution_count": 22,
   "id": "f2ef46f5",
   "metadata": {},
   "outputs": [],
   "source": [
    "mask = np.triu(np.ones_like(corr, dtype=bool))"
   ]
  },
  {
   "cell_type": "code",
   "execution_count": 23,
   "id": "3b63bc63",
   "metadata": {},
   "outputs": [
    {
     "data": {
      "text/plain": [
       "<Axes: >"
      ]
     },
     "execution_count": 23,
     "metadata": {},
     "output_type": "execute_result"
    },
    {
     "data": {
      "image/png": "[encoded data removed]",
      "text/plain": [
       "<Figure size 640x480 with 2 Axes>"
      ]
     },
     "metadata": {},
     "output_type": "display_data"
    }
   ],
   "source": [
    "sns.heatmap(corr, mask=mask,  annot=True, fmt=\".1f\")"
   ]
  },
  {
   "cell_type": "code",
   "execution_count": 24,
   "id": "d150e0bc",
   "metadata": {},
   "outputs": [
    {
     "data": {
      "text/plain": [
       "['Inflation_g', 'GHG', 'energy_use', 'GDP_lag']"
      ]
     },
     "execution_count": 24,
     "metadata": {},
     "output_type": "execute_result"
    }
   ],
   "source": [
    "exog_vars = overall.columns.tolist()\n",
    "exog_vars.pop(0)\n",
    "exog_vars\n",
    "#overall['GDP_g'] = np.log()"
   ]
  },
  {
   "cell_type": "code",
   "execution_count": 25,
   "id": "661a2c86",
   "metadata": {},
   "outputs": [],
   "source": [
    "exog = sm.add_constant(overall[exog_vars])"
   ]
  },
  {
   "cell_type": "code",
   "execution_count": 26,
   "id": "aeef87c2",
   "metadata": {},
   "outputs": [
    {
     "data": {
      "text/html": [
       "<div>\n",
       "<style scoped>\n",
       "    .dataframe tbody tr th:only-of-type {\n",
       "        vertical-align: middle;\n",
       "    }\n",
       "\n",
       "    .dataframe tbody tr th {\n",
       "        vertical-align: top;\n",
       "    }\n",
       "\n",
       "    .dataframe thead th {\n",
       "        text-align: right;\n",
       "    }\n",
       "</style>\n",
       "<table border=\"1\" class=\"dataframe\">\n",
       "  <thead>\n",
       "    <tr style=\"text-align: right;\">\n",
       "      <th></th>\n",
       "      <th></th>\n",
       "      <th>const</th>\n",
       "      <th>Inflation_g</th>\n",
       "      <th>GHG</th>\n",
       "      <th>energy_use</th>\n",
       "      <th>GDP_lag</th>\n",
       "    </tr>\n",
       "    <tr>\n",
       "      <th>Country</th>\n",
       "      <th>Year</th>\n",
       "      <th></th>\n",
       "      <th></th>\n",
       "      <th></th>\n",
       "      <th></th>\n",
       "      <th></th>\n",
       "    </tr>\n",
       "  </thead>\n",
       "  <tbody>\n",
       "    <tr>\n",
       "      <th rowspan=\"5\" valign=\"top\">Australia</th>\n",
       "      <th>2001</th>\n",
       "      <td>1.0</td>\n",
       "      <td>4.620333</td>\n",
       "      <td>6.355300e+05</td>\n",
       "      <td>2554.74</td>\n",
       "      <td>3.901171</td>\n",
       "    </tr>\n",
       "    <tr>\n",
       "      <th>2002</th>\n",
       "      <td>1.0</td>\n",
       "      <td>2.844065</td>\n",
       "      <td>6.302350e+05</td>\n",
       "      <td>2553.62</td>\n",
       "      <td>2.041417</td>\n",
       "    </tr>\n",
       "    <tr>\n",
       "      <th>2003</th>\n",
       "      <td>1.0</td>\n",
       "      <td>2.967938</td>\n",
       "      <td>5.505632e+05</td>\n",
       "      <td>2654.80</td>\n",
       "      <td>3.993590</td>\n",
       "    </tr>\n",
       "    <tr>\n",
       "      <th>2004</th>\n",
       "      <td>1.0</td>\n",
       "      <td>3.237062</td>\n",
       "      <td>6.089257e+05</td>\n",
       "      <td>2722.53</td>\n",
       "      <td>3.111398</td>\n",
       "    </tr>\n",
       "    <tr>\n",
       "      <th>2005</th>\n",
       "      <td>1.0</td>\n",
       "      <td>3.824360</td>\n",
       "      <td>5.710569e+05</td>\n",
       "      <td>2747.80</td>\n",
       "      <td>4.216633</td>\n",
       "    </tr>\n",
       "    <tr>\n",
       "      <th>...</th>\n",
       "      <th>...</th>\n",
       "      <td>...</td>\n",
       "      <td>...</td>\n",
       "      <td>...</td>\n",
       "      <td>...</td>\n",
       "      <td>...</td>\n",
       "    </tr>\n",
       "    <tr>\n",
       "      <th rowspan=\"5\" valign=\"top\">United States</th>\n",
       "      <th>2016</th>\n",
       "      <td>1.0</td>\n",
       "      <td>1.002235</td>\n",
       "      <td>6.003241e+06</td>\n",
       "      <td>54460.04</td>\n",
       "      <td>2.706370</td>\n",
       "    </tr>\n",
       "    <tr>\n",
       "      <th>2017</th>\n",
       "      <td>1.0</td>\n",
       "      <td>1.899610</td>\n",
       "      <td>5.947835e+06</td>\n",
       "      <td>54939.22</td>\n",
       "      <td>1.667472</td>\n",
       "    </tr>\n",
       "    <tr>\n",
       "      <th>2018</th>\n",
       "      <td>1.0</td>\n",
       "      <td>2.404059</td>\n",
       "      <td>6.154646e+06</td>\n",
       "      <td>56461.94</td>\n",
       "      <td>2.241921</td>\n",
       "    </tr>\n",
       "    <tr>\n",
       "      <th>2019</th>\n",
       "      <td>1.0</td>\n",
       "      <td>1.793931</td>\n",
       "      <td>6.039739e+06</td>\n",
       "      <td>57239.83</td>\n",
       "      <td>2.945385</td>\n",
       "    </tr>\n",
       "    <tr>\n",
       "      <th>2020</th>\n",
       "      <td>1.0</td>\n",
       "      <td>1.304912</td>\n",
       "      <td>5.505181e+06</td>\n",
       "      <td>50234.83</td>\n",
       "      <td>2.294439</td>\n",
       "    </tr>\n",
       "  </tbody>\n",
       "</table>\n",
       "<p>456 rows × 5 columns</p>\n",
       "</div>"
      ],
      "text/plain": [
       "                    const  Inflation_g           GHG  energy_use   GDP_lag\n",
       "Country       Year                                                        \n",
       "Australia     2001    1.0     4.620333  6.355300e+05     2554.74  3.901171\n",
       "              2002    1.0     2.844065  6.302350e+05     2553.62  2.041417\n",
       "              2003    1.0     2.967938  5.505632e+05     2654.80  3.993590\n",
       "              2004    1.0     3.237062  6.089257e+05     2722.53  3.111398\n",
       "              2005    1.0     3.824360  5.710569e+05     2747.80  4.216633\n",
       "...                   ...          ...           ...         ...       ...\n",
       "United States 2016    1.0     1.002235  6.003241e+06    54460.04  2.706370\n",
       "              2017    1.0     1.899610  5.947835e+06    54939.22  1.667472\n",
       "              2018    1.0     2.404059  6.154646e+06    56461.94  2.241921\n",
       "              2019    1.0     1.793931  6.039739e+06    57239.83  2.945385\n",
       "              2020    1.0     1.304912  5.505181e+06    50234.83  2.294439\n",
       "\n",
       "[456 rows x 5 columns]"
      ]
     },
     "execution_count": 26,
     "metadata": {},
     "output_type": "execute_result"
    }
   ],
   "source": [
    "exog"
   ]
  },
  {
   "cell_type": "code",
   "execution_count": 27,
   "id": "cdd1a8f6",
   "metadata": {},
   "outputs": [],
   "source": [
    "mod = PooledOLS(overall.GDP_g, exog)"
   ]
  },
  {
   "cell_type": "code",
   "execution_count": 28,
   "id": "3b77eda4",
   "metadata": {},
   "outputs": [],
   "source": [
    "pooled_res = mod.fit()"
   ]
  },
  {
   "cell_type": "code",
   "execution_count": 29,
   "id": "4485282c",
   "metadata": {},
   "outputs": [
    {
     "data": {
      "text/html": [
       "<table class=\"simpletable\">\n",
       "<caption>PooledOLS Estimation Summary</caption>\n",
       "<tr>\n",
       "  <th>Dep. Variable:</th>          <td>GDP_g</td>      <th>  R-squared:         </th>    <td>0.1736</td> \n",
       "</tr>\n",
       "<tr>\n",
       "  <th>Estimator:</th>            <td>PooledOLS</td>    <th>  R-squared (Between):</th>   <td>0.6418</td> \n",
       "</tr>\n",
       "<tr>\n",
       "  <th>No. Observations:</th>        <td>456</td>       <th>  R-squared (Within):</th>    <td>0.0880</td> \n",
       "</tr>\n",
       "<tr>\n",
       "  <th>Date:</th>             <td>Thu, Nov 16 2023</td> <th>  R-squared (Overall):</th>   <td>0.1736</td> \n",
       "</tr>\n",
       "<tr>\n",
       "  <th>Time:</th>                 <td>19:53:30</td>     <th>  Log-likelihood     </th>    <td>-1088.1</td>\n",
       "</tr>\n",
       "<tr>\n",
       "  <th>Cov. Estimator:</th>      <td>Unadjusted</td>    <th>                     </th>       <td></td>    \n",
       "</tr>\n",
       "<tr>\n",
       "  <th></th>                          <td></td>         <th>  F-statistic:       </th>    <td>23.683</td> \n",
       "</tr>\n",
       "<tr>\n",
       "  <th>Entities:</th>                <td>24</td>        <th>  P-value            </th>    <td>0.0000</td> \n",
       "</tr>\n",
       "<tr>\n",
       "  <th>Avg Obs:</th>               <td>19.000</td>      <th>  Distribution:      </th>   <td>F(4,451)</td>\n",
       "</tr>\n",
       "<tr>\n",
       "  <th>Min Obs:</th>               <td>10.0000</td>     <th>                     </th>       <td></td>    \n",
       "</tr>\n",
       "<tr>\n",
       "  <th>Max Obs:</th>               <td>20.000</td>      <th>  F-statistic (robust):</th>  <td>23.683</td> \n",
       "</tr>\n",
       "<tr>\n",
       "  <th></th>                          <td></td>         <th>  P-value            </th>    <td>0.0000</td> \n",
       "</tr>\n",
       "<tr>\n",
       "  <th>Time periods:</th>            <td>20</td>        <th>  Distribution:      </th>   <td>F(4,451)</td>\n",
       "</tr>\n",
       "<tr>\n",
       "  <th>Avg Obs:</th>               <td>22.800</td>      <th>                     </th>       <td></td>    \n",
       "</tr>\n",
       "<tr>\n",
       "  <th>Min Obs:</th>               <td>15.000</td>      <th>                     </th>       <td></td>    \n",
       "</tr>\n",
       "<tr>\n",
       "  <th>Max Obs:</th>               <td>24.000</td>      <th>                     </th>       <td></td>    \n",
       "</tr>\n",
       "<tr>\n",
       "  <th></th>                          <td></td>         <th>                     </th>       <td></td>    \n",
       "</tr>\n",
       "</table>\n",
       "<table class=\"simpletable\">\n",
       "<caption>Parameter Estimates</caption>\n",
       "<tr>\n",
       "       <td></td>       <th>Parameter</th> <th>Std. Err.</th> <th>T-stat</th>  <th>P-value</th>  <th>Lower CI</th>   <th>Upper CI</th> \n",
       "</tr>\n",
       "<tr>\n",
       "  <th>const</th>        <td>0.7127</td>    <td>0.2066</td>   <td>3.4496</td>  <td>0.0006</td>    <td>0.3067</td>     <td>1.1188</td>  \n",
       "</tr>\n",
       "<tr>\n",
       "  <th>Inflation_g</th>  <td>0.1246</td>    <td>0.0695</td>   <td>1.7923</td>  <td>0.0738</td>    <td>-0.0120</td>    <td>0.2613</td>  \n",
       "</tr>\n",
       "<tr>\n",
       "  <th>GHG</th>         <td>2.437e-06</td> <td>1.245e-06</td> <td>1.9584</td>  <td>0.0508</td>  <td>-8.449e-09</td>  <td>4.883e-06</td>\n",
       "</tr>\n",
       "<tr>\n",
       "  <th>energy_use</th>   <td>-0.0003</td>   <td>0.0001</td>   <td>-1.9859</td> <td>0.0476</td>    <td>-0.0006</td>  <td>-2.949e-06</td>\n",
       "</tr>\n",
       "<tr>\n",
       "  <th>GDP_lag</th>      <td>0.3903</td>    <td>0.0504</td>   <td>7.7470</td>  <td>0.0000</td>    <td>0.2913</td>     <td>0.4892</td>  \n",
       "</tr>\n",
       "</table><br/>id: 0x21f00827100"
      ],
      "text/plain": [
       "                          PooledOLS Estimation Summary                          \n",
       "================================================================================\n",
       "Dep. Variable:                  GDP_g   R-squared:                        0.1736\n",
       "Estimator:                  PooledOLS   R-squared (Between):              0.6418\n",
       "No. Observations:                 456   R-squared (Within):               0.0880\n",
       "Date:                Thu, Nov 16 2023   R-squared (Overall):              0.1736\n",
       "Time:                        19:53:30   Log-likelihood                   -1088.1\n",
       "Cov. Estimator:            Unadjusted                                           \n",
       "                                        F-statistic:                      23.683\n",
       "Entities:                          24   P-value                           0.0000\n",
       "Avg Obs:                       19.000   Distribution:                   F(4,451)\n",
       "Min Obs:                      10.0000                                           \n",
       "Max Obs:                       20.000   F-statistic (robust):             23.683\n",
       "                                        P-value                           0.0000\n",
       "Time periods:                      20   Distribution:                   F(4,451)\n",
       "Avg Obs:                       22.800                                           \n",
       "Min Obs:                       15.000                                           \n",
       "Max Obs:                       24.000                                           \n",
       "                                                                                \n",
       "                              Parameter Estimates                              \n",
       "===============================================================================\n",
       "             Parameter  Std. Err.     T-stat    P-value    Lower CI    Upper CI\n",
       "-------------------------------------------------------------------------------\n",
       "const           0.7127     0.2066     3.4496     0.0006      0.3067      1.1188\n",
       "Inflation_g     0.1246     0.0695     1.7923     0.0738     -0.0120      0.2613\n",
       "GHG          2.437e-06  1.245e-06     1.9584     0.0508  -8.449e-09   4.883e-06\n",
       "energy_use     -0.0003     0.0001    -1.9859     0.0476     -0.0006  -2.949e-06\n",
       "GDP_lag         0.3903     0.0504     7.7470     0.0000      0.2913      0.4892\n",
       "===============================================================================\n",
       "PanelResults, id: 0x21f00827100"
      ]
     },
     "execution_count": 29,
     "metadata": {},
     "output_type": "execute_result"
    }
   ],
   "source": [
    "pooled_res"
   ]
  },
  {
   "cell_type": "code",
   "execution_count": 30,
   "id": "c65c3bc5",
   "metadata": {},
   "outputs": [],
   "source": [
    "from linearmodels.panel import RandomEffects"
   ]
  },
  {
   "cell_type": "code",
   "execution_count": 31,
   "id": "079edbbe",
   "metadata": {},
   "outputs": [],
   "source": [
    "mod = RandomEffects(overall.GDP_g, exog)"
   ]
  },
  {
   "cell_type": "code",
   "execution_count": 32,
   "id": "04a6c287",
   "metadata": {},
   "outputs": [
    {
     "data": {
      "text/html": [
       "<table class=\"simpletable\">\n",
       "<caption>RandomEffects Estimation Summary</caption>\n",
       "<tr>\n",
       "  <th>Dep. Variable:</th>          <td>GDP_g</td>      <th>  R-squared:         </th>    <td>0.1736</td> \n",
       "</tr>\n",
       "<tr>\n",
       "  <th>Estimator:</th>          <td>RandomEffects</td>  <th>  R-squared (Between):</th>   <td>0.6418</td> \n",
       "</tr>\n",
       "<tr>\n",
       "  <th>No. Observations:</th>        <td>456</td>       <th>  R-squared (Within):</th>    <td>0.0880</td> \n",
       "</tr>\n",
       "<tr>\n",
       "  <th>Date:</th>             <td>Thu, Nov 16 2023</td> <th>  R-squared (Overall):</th>   <td>0.1736</td> \n",
       "</tr>\n",
       "<tr>\n",
       "  <th>Time:</th>                 <td>19:53:30</td>     <th>  Log-likelihood     </th>    <td>-1088.1</td>\n",
       "</tr>\n",
       "<tr>\n",
       "  <th>Cov. Estimator:</th>      <td>Unadjusted</td>    <th>                     </th>       <td></td>    \n",
       "</tr>\n",
       "<tr>\n",
       "  <th></th>                          <td></td>         <th>  F-statistic:       </th>    <td>23.683</td> \n",
       "</tr>\n",
       "<tr>\n",
       "  <th>Entities:</th>                <td>24</td>        <th>  P-value            </th>    <td>0.0000</td> \n",
       "</tr>\n",
       "<tr>\n",
       "  <th>Avg Obs:</th>               <td>19.000</td>      <th>  Distribution:      </th>   <td>F(4,451)</td>\n",
       "</tr>\n",
       "<tr>\n",
       "  <th>Min Obs:</th>               <td>10.0000</td>     <th>                     </th>       <td></td>    \n",
       "</tr>\n",
       "<tr>\n",
       "  <th>Max Obs:</th>               <td>20.000</td>      <th>  F-statistic (robust):</th>  <td>23.683</td> \n",
       "</tr>\n",
       "<tr>\n",
       "  <th></th>                          <td></td>         <th>  P-value            </th>    <td>0.0000</td> \n",
       "</tr>\n",
       "<tr>\n",
       "  <th>Time periods:</th>            <td>20</td>        <th>  Distribution:      </th>   <td>F(4,451)</td>\n",
       "</tr>\n",
       "<tr>\n",
       "  <th>Avg Obs:</th>               <td>22.800</td>      <th>                     </th>       <td></td>    \n",
       "</tr>\n",
       "<tr>\n",
       "  <th>Min Obs:</th>               <td>15.000</td>      <th>                     </th>       <td></td>    \n",
       "</tr>\n",
       "<tr>\n",
       "  <th>Max Obs:</th>               <td>24.000</td>      <th>                     </th>       <td></td>    \n",
       "</tr>\n",
       "<tr>\n",
       "  <th></th>                          <td></td>         <th>                     </th>       <td></td>    \n",
       "</tr>\n",
       "</table>\n",
       "<table class=\"simpletable\">\n",
       "<caption>Parameter Estimates</caption>\n",
       "<tr>\n",
       "       <td></td>       <th>Parameter</th> <th>Std. Err.</th> <th>T-stat</th>  <th>P-value</th>  <th>Lower CI</th>   <th>Upper CI</th> \n",
       "</tr>\n",
       "<tr>\n",
       "  <th>const</th>        <td>0.7127</td>    <td>0.2066</td>   <td>3.4496</td>  <td>0.0006</td>    <td>0.3067</td>     <td>1.1188</td>  \n",
       "</tr>\n",
       "<tr>\n",
       "  <th>Inflation_g</th>  <td>0.1246</td>    <td>0.0695</td>   <td>1.7923</td>  <td>0.0738</td>    <td>-0.0120</td>    <td>0.2613</td>  \n",
       "</tr>\n",
       "<tr>\n",
       "  <th>GHG</th>         <td>2.437e-06</td> <td>1.245e-06</td> <td>1.9584</td>  <td>0.0508</td>  <td>-8.449e-09</td>  <td>4.883e-06</td>\n",
       "</tr>\n",
       "<tr>\n",
       "  <th>energy_use</th>   <td>-0.0003</td>   <td>0.0001</td>   <td>-1.9859</td> <td>0.0476</td>    <td>-0.0006</td>  <td>-2.949e-06</td>\n",
       "</tr>\n",
       "<tr>\n",
       "  <th>GDP_lag</th>      <td>0.3903</td>    <td>0.0504</td>   <td>7.7470</td>  <td>0.0000</td>    <td>0.2913</td>     <td>0.4892</td>  \n",
       "</tr>\n",
       "</table><br/>id: 0x21f010f1a80"
      ],
      "text/plain": [
       "                        RandomEffects Estimation Summary                        \n",
       "================================================================================\n",
       "Dep. Variable:                  GDP_g   R-squared:                        0.1736\n",
       "Estimator:              RandomEffects   R-squared (Between):              0.6418\n",
       "No. Observations:                 456   R-squared (Within):               0.0880\n",
       "Date:                Thu, Nov 16 2023   R-squared (Overall):              0.1736\n",
       "Time:                        19:53:30   Log-likelihood                   -1088.1\n",
       "Cov. Estimator:            Unadjusted                                           \n",
       "                                        F-statistic:                      23.683\n",
       "Entities:                          24   P-value                           0.0000\n",
       "Avg Obs:                       19.000   Distribution:                   F(4,451)\n",
       "Min Obs:                      10.0000                                           \n",
       "Max Obs:                       20.000   F-statistic (robust):             23.683\n",
       "                                        P-value                           0.0000\n",
       "Time periods:                      20   Distribution:                   F(4,451)\n",
       "Avg Obs:                       22.800                                           \n",
       "Min Obs:                       15.000                                           \n",
       "Max Obs:                       24.000                                           \n",
       "                                                                                \n",
       "                              Parameter Estimates                              \n",
       "===============================================================================\n",
       "             Parameter  Std. Err.     T-stat    P-value    Lower CI    Upper CI\n",
       "-------------------------------------------------------------------------------\n",
       "const           0.7127     0.2066     3.4496     0.0006      0.3067      1.1188\n",
       "Inflation_g     0.1246     0.0695     1.7923     0.0738     -0.0120      0.2613\n",
       "GHG          2.437e-06  1.245e-06     1.9584     0.0508  -8.449e-09   4.883e-06\n",
       "energy_use     -0.0003     0.0001    -1.9859     0.0476     -0.0006  -2.949e-06\n",
       "GDP_lag         0.3903     0.0504     7.7470     0.0000      0.2913      0.4892\n",
       "===============================================================================\n",
       "RandomEffectsResults, id: 0x21f010f1a80"
      ]
     },
     "execution_count": 32,
     "metadata": {},
     "output_type": "execute_result"
    }
   ],
   "source": [
    "re_res = mod.fit()\n",
    "re_res"
   ]
  },
  {
   "cell_type": "code",
   "execution_count": 33,
   "id": "ae0d36ec",
   "metadata": {},
   "outputs": [
    {
     "data": {
      "text/plain": [
       "Effects                   0.00000\n",
       "Residual                  6.71254\n",
       "Percent due to Effects    0.00000\n",
       "Name: Variance Decomposition, dtype: float64"
      ]
     },
     "execution_count": 33,
     "metadata": {},
     "output_type": "execute_result"
    }
   ],
   "source": [
    "re_res.variance_decomposition"
   ]
  },
  {
   "cell_type": "code",
   "execution_count": 34,
   "id": "136911c6",
   "metadata": {},
   "outputs": [
    {
     "name": "stdout",
     "output_type": "stream",
     "text": [
      "theta    0.0\n",
      "dtype: float64\n",
      "theta    0.0\n",
      "dtype: float64\n"
     ]
    }
   ],
   "source": [
    "print(re_res.theta.max(), re_res.theta.min(), sep='\\n')"
   ]
  },
  {
   "cell_type": "code",
   "execution_count": 35,
   "id": "cd97e44c",
   "metadata": {},
   "outputs": [],
   "source": [
    "from linearmodels.panel import BetweenOLS"
   ]
  },
  {
   "cell_type": "code",
   "execution_count": 36,
   "id": "08b219f0",
   "metadata": {},
   "outputs": [
    {
     "data": {
      "text/html": [
       "<table class=\"simpletable\">\n",
       "<caption>BetweenOLS Estimation Summary</caption>\n",
       "<tr>\n",
       "  <th>Dep. Variable:</th>          <td>GDP_g</td>      <th>  R-squared:         </th>   <td>0.9691</td> \n",
       "</tr>\n",
       "<tr>\n",
       "  <th>Estimator:</th>           <td>BetweenOLS</td>    <th>  R-squared (Between):</th>  <td>0.9654</td> \n",
       "</tr>\n",
       "<tr>\n",
       "  <th>No. Observations:</th>        <td>24</td>        <th>  R-squared (Within):</th>   <td>-0.4085</td>\n",
       "</tr>\n",
       "<tr>\n",
       "  <th>Date:</th>             <td>Thu, Nov 16 2023</td> <th>  R-squared (Overall):</th>  <td>-0.1995</td>\n",
       "</tr>\n",
       "<tr>\n",
       "  <th>Time:</th>                 <td>19:53:30</td>     <th>  Log-likelihood     </th>   <td>4.7987</td> \n",
       "</tr>\n",
       "<tr>\n",
       "  <th>Cov. Estimator:</th>      <td>Unadjusted</td>    <th>                     </th>      <td></td>    \n",
       "</tr>\n",
       "<tr>\n",
       "  <th></th>                          <td></td>         <th>  F-statistic:       </th>   <td>152.10</td> \n",
       "</tr>\n",
       "<tr>\n",
       "  <th>Entities:</th>                <td>24</td>        <th>  P-value            </th>   <td>0.0000</td> \n",
       "</tr>\n",
       "<tr>\n",
       "  <th>Avg Obs:</th>               <td>19.000</td>      <th>  Distribution:      </th>   <td>F(4,19)</td>\n",
       "</tr>\n",
       "<tr>\n",
       "  <th>Min Obs:</th>               <td>10.0000</td>     <th>                     </th>      <td></td>    \n",
       "</tr>\n",
       "<tr>\n",
       "  <th>Max Obs:</th>               <td>20.000</td>      <th>  F-statistic (robust):</th> <td>149.02</td> \n",
       "</tr>\n",
       "<tr>\n",
       "  <th></th>                          <td></td>         <th>  P-value            </th>   <td>0.0000</td> \n",
       "</tr>\n",
       "<tr>\n",
       "  <th>Time periods:</th>            <td>20</td>        <th>  Distribution:      </th>   <td>F(4,19)</td>\n",
       "</tr>\n",
       "<tr>\n",
       "  <th>Avg Obs:</th>               <td>22.800</td>      <th>                     </th>      <td></td>    \n",
       "</tr>\n",
       "<tr>\n",
       "  <th>Min Obs:</th>               <td>15.000</td>      <th>                     </th>      <td></td>    \n",
       "</tr>\n",
       "<tr>\n",
       "  <th>Max Obs:</th>               <td>24.000</td>      <th>                     </th>      <td></td>    \n",
       "</tr>\n",
       "<tr>\n",
       "  <th></th>                          <td></td>         <th>                     </th>      <td></td>    \n",
       "</tr>\n",
       "</table>\n",
       "<table class=\"simpletable\">\n",
       "<caption>Parameter Estimates</caption>\n",
       "<tr>\n",
       "       <td></td>        <th>Parameter</th> <th>Std. Err.</th> <th>T-stat</th>  <th>P-value</th>  <th>Lower CI</th>  <th>Upper CI</th> \n",
       "</tr>\n",
       "<tr>\n",
       "  <th>const</th>         <td>-0.3534</td>   <td>0.1315</td>   <td>-2.6866</td> <td>0.0146</td>    <td>-0.6287</td>   <td>-0.0781</td> \n",
       "</tr>\n",
       "<tr>\n",
       "  <th>Inflation_g</th>   <td>-0.0640</td>   <td>0.0420</td>   <td>-1.5226</td> <td>0.1443</td>    <td>-0.1520</td>   <td>0.0240</td>  \n",
       "</tr>\n",
       "<tr>\n",
       "  <th>GHG</th>          <td>6.988e-07</td> <td>6.014e-07</td> <td>1.1620</td>  <td>0.2596</td>  <td>-5.599e-07</td> <td>1.958e-06</td>\n",
       "</tr>\n",
       "<tr>\n",
       "  <th>energy_use</th>  <td>-8.261e-05</td> <td>6.888e-05</td> <td>-1.1992</td> <td>0.2452</td>    <td>-0.0002</td>  <td>6.157e-05</td>\n",
       "</tr>\n",
       "<tr>\n",
       "  <th>GDP_lag</th>       <td>1.1012</td>    <td>0.0510</td>   <td>21.579</td>  <td>0.0000</td>    <td>0.9944</td>    <td>1.2080</td>  \n",
       "</tr>\n",
       "</table><br/>id: 0x21f010f35b0"
      ],
      "text/plain": [
       "                         BetweenOLS Estimation Summary                          \n",
       "================================================================================\n",
       "Dep. Variable:                  GDP_g   R-squared:                        0.9691\n",
       "Estimator:                 BetweenOLS   R-squared (Between):              0.9654\n",
       "No. Observations:                  24   R-squared (Within):              -0.4085\n",
       "Date:                Thu, Nov 16 2023   R-squared (Overall):             -0.1995\n",
       "Time:                        19:53:30   Log-likelihood                    4.7987\n",
       "Cov. Estimator:            Unadjusted                                           \n",
       "                                        F-statistic:                      152.10\n",
       "Entities:                          24   P-value                           0.0000\n",
       "Avg Obs:                       19.000   Distribution:                    F(4,19)\n",
       "Min Obs:                      10.0000                                           \n",
       "Max Obs:                       20.000   F-statistic (robust):             149.02\n",
       "                                        P-value                           0.0000\n",
       "Time periods:                      20   Distribution:                    F(4,19)\n",
       "Avg Obs:                       22.800                                           \n",
       "Min Obs:                       15.000                                           \n",
       "Max Obs:                       24.000                                           \n",
       "                                                                                \n",
       "                              Parameter Estimates                              \n",
       "===============================================================================\n",
       "             Parameter  Std. Err.     T-stat    P-value    Lower CI    Upper CI\n",
       "-------------------------------------------------------------------------------\n",
       "const          -0.3534     0.1315    -2.6866     0.0146     -0.6287     -0.0781\n",
       "Inflation_g    -0.0640     0.0420    -1.5226     0.1443     -0.1520      0.0240\n",
       "GHG          6.988e-07  6.014e-07     1.1620     0.2596  -5.599e-07   1.958e-06\n",
       "energy_use  -8.261e-05  6.888e-05    -1.1992     0.2452     -0.0002   6.157e-05\n",
       "GDP_lag         1.1012     0.0510     21.579     0.0000      0.9944      1.2080\n",
       "===============================================================================\n",
       "PanelResults, id: 0x21f010f35b0"
      ]
     },
     "execution_count": 36,
     "metadata": {},
     "output_type": "execute_result"
    }
   ],
   "source": [
    "exog = sm.add_constant(overall[exog_vars])\n",
    "mod = BetweenOLS(overall.GDP_g, exog)\n",
    "be_res = mod.fit(reweight=True) #панели несбалансированы?\n",
    "be_res"
   ]
  },
  {
   "cell_type": "code",
   "execution_count": 37,
   "id": "158d3a76",
   "metadata": {},
   "outputs": [],
   "source": [
    "from linearmodels.panel import compare"
   ]
  },
  {
   "cell_type": "code",
   "execution_count": 38,
   "id": "0f333f03",
   "metadata": {},
   "outputs": [
    {
     "name": "stdout",
     "output_type": "stream",
     "text": [
      "                        Model Comparison                       \n",
      "===============================================================\n",
      "                                BE              RE       Pooled\n",
      "---------------------------------------------------------------\n",
      "Dep. Variable                GDP_g           GDP_g        GDP_g\n",
      "Estimator               BetweenOLS   RandomEffects    PooledOLS\n",
      "No. Observations                24             456          456\n",
      "Cov. Est.               Unadjusted      Unadjusted   Unadjusted\n",
      "R-squared                   0.9691          0.1736       0.1736\n",
      "R-Squared (Within)         -0.4085          0.0880       0.0880\n",
      "R-Squared (Between)         0.9654          0.6418       0.6418\n",
      "R-Squared (Overall)        -0.1995          0.1736       0.1736\n",
      "F-statistic                 152.10          23.683       23.683\n",
      "P-value (F-stat)            0.0000          0.0000       0.0000\n",
      "===================== ============ =============== ============\n",
      "const                    -0.3534**       0.7127***    0.7127***\n",
      "                         (-2.6866)        (3.4496)     (3.4496)\n",
      "Inflation_g                -0.0640         0.1246*      0.1246*\n",
      "                         (-1.5226)        (1.7923)     (1.7923)\n",
      "GHG                      6.988e-07      2.437e-06*   2.437e-06*\n",
      "                          (1.1620)        (1.9584)     (1.9584)\n",
      "energy_use              -8.261e-05       -0.0003**    -0.0003**\n",
      "                         (-1.1992)       (-1.9859)    (-1.9859)\n",
      "GDP_lag                  1.1012***       0.3903***    0.3903***\n",
      "                          (21.579)        (7.7470)     (7.7470)\n",
      "---------------------------------------------------------------\n",
      "\n",
      "T-stats reported in parentheses\n"
     ]
    }
   ],
   "source": [
    "print(compare({\"BE\": be_res, \"RE\": re_res, \"Pooled\": pooled_res}, stars=True))\n",
    "#\"RE\": re_res,"
   ]
  },
  {
   "cell_type": "code",
   "execution_count": null,
   "id": "758fcdd1",
   "metadata": {},
   "outputs": [],
   "source": []
  },
  {
   "cell_type": "code",
   "execution_count": 39,
   "id": "2ad9a6af",
   "metadata": {},
   "outputs": [],
   "source": [
    "from statsmodels.stats.diagnostic import het_breuschpagan"
   ]
  },
  {
   "cell_type": "code",
   "execution_count": 40,
   "id": "1beffd1b",
   "metadata": {},
   "outputs": [
    {
     "data": {
      "text/plain": [
       "Country        Year\n",
       "Australia      2001   -1.595904\n",
       "               2002    1.316035\n",
       "               2003   -0.120617\n",
       "               2004    1.172259\n",
       "               2005   -0.295696\n",
       "                         ...   \n",
       "United States  2016    0.549307\n",
       "               2017    1.687947\n",
       "               2018    2.031084\n",
       "               2019    1.681814\n",
       "               2020   -3.744374\n",
       "Name: residual, Length: 456, dtype: float64"
      ]
     },
     "execution_count": 40,
     "metadata": {},
     "output_type": "execute_result"
    }
   ],
   "source": [
    "residuals = re_res.resids\n",
    "residuals"
   ]
  },
  {
   "cell_type": "code",
   "execution_count": 41,
   "id": "c039bd6f",
   "metadata": {},
   "outputs": [],
   "source": [
    "het_test = het_breuschpagan(residuals, exog_het=exog, robust=False)"
   ]
  },
  {
   "cell_type": "code",
   "execution_count": 42,
   "id": "89cec3e9",
   "metadata": {},
   "outputs": [
    {
     "data": {
      "text/plain": [
       "(27.004048451326298,\n",
       " 1.9841477577462293e-05,\n",
       " 1.6463397831541156,\n",
       " 0.16153056267633178)"
      ]
     },
     "execution_count": 42,
     "metadata": {},
     "output_type": "execute_result"
    }
   ],
   "source": [
    "het_test"
   ]
  },
  {
   "cell_type": "code",
   "execution_count": 43,
   "id": "edd3013d",
   "metadata": {},
   "outputs": [
    {
     "data": {
      "text/plain": [
       "Country        Year\n",
       "Australia      2001   -1.595904\n",
       "               2002    1.316035\n",
       "               2003   -0.120617\n",
       "               2004    1.172259\n",
       "               2005   -0.295696\n",
       "                         ...   \n",
       "United States  2016    0.549307\n",
       "               2017    1.687947\n",
       "               2018    2.031084\n",
       "               2019    1.681814\n",
       "               2020   -3.744374\n",
       "Name: residual, Length: 456, dtype: float64"
      ]
     },
     "execution_count": 43,
     "metadata": {},
     "output_type": "execute_result"
    }
   ],
   "source": [
    "residuals = pooled_res.resids\n",
    "residuals"
   ]
  },
  {
   "cell_type": "code",
   "execution_count": 44,
   "id": "21892885",
   "metadata": {},
   "outputs": [],
   "source": [
    "het_test = het_breuschpagan(residuals, exog_het=exog, robust=False)"
   ]
  },
  {
   "cell_type": "code",
   "execution_count": 45,
   "id": "21579ced",
   "metadata": {},
   "outputs": [
    {
     "data": {
      "text/plain": [
       "(27.004048451326298,\n",
       " 1.9841477577462293e-05,\n",
       " 1.6463397831541156,\n",
       " 0.16153056267633178)"
      ]
     },
     "execution_count": 45,
     "metadata": {},
     "output_type": "execute_result"
    }
   ],
   "source": [
    "het_test"
   ]
  },
  {
   "cell_type": "code",
   "execution_count": 46,
   "id": "6ce17929",
   "metadata": {},
   "outputs": [],
   "source": [
    "import numpy.linalg as la"
   ]
  },
  {
   "cell_type": "code",
   "execution_count": 47,
   "id": "8ac83233",
   "metadata": {},
   "outputs": [],
   "source": [
    "def hausman(fe, re):\n",
    "    b = fe.params\n",
    "    B = re.params\n",
    "    v_b = fe.cov\n",
    "    v_B = re.cov\n",
    "    df = b[np.abs(b) < 1e8].size\n",
    "    chi2 = np.dot((b - B).T, la.inv(v_b - v_B).dot(b - B)) \n",
    "    pval = stats.chi2.sf(chi2, df)\n",
    "    return chi2, df, pval"
   ]
  },
  {
   "cell_type": "code",
   "execution_count": 48,
   "id": "0acb7fe6",
   "metadata": {},
   "outputs": [
    {
     "data": {
      "text/plain": [
       "(2464.656662500685, 5, 0.0)"
      ]
     },
     "execution_count": 48,
     "metadata": {},
     "output_type": "execute_result"
    }
   ],
   "source": [
    "hausman(be_res, re_res)"
   ]
  },
  {
   "cell_type": "code",
   "execution_count": null,
   "id": "70c1ed63",
   "metadata": {},
   "outputs": [],
   "source": []
  },
  {
   "cell_type": "code",
   "execution_count": null,
   "id": "dd482f99",
   "metadata": {},
   "outputs": [],
   "source": []
  },
  {
   "cell_type": "code",
   "execution_count": null,
   "id": "b36fc181",
   "metadata": {},
   "outputs": [],
   "source": []
  }
 ],
 "metadata": {
  "kernelspec": {
   "display_name": "Python 3 (ipykernel)",
   "language": "python",
   "name": "python3"
  },
  "language_info": {
   "codemirror_mode": {
    "name": "ipython",
    "version": 3
   },
   "file_extension": ".py",
   "mimetype": "text/x-python",
   "name": "python",
   "nbconvert_exporter": "python",
   "pygments_lexer": "ipython3",
   "version": "3.10.13"
  }
 },
 "nbformat": 4,
 "nbformat_minor": 5
}
